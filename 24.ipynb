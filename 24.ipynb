{
 "cells": [
  {
   "cell_type": "code",
   "execution_count": 1,
   "metadata": {},
   "outputs": [],
   "source": [
    "from itertools import permutations, product"
   ]
  },
  {
   "cell_type": "code",
   "execution_count": 2,
   "metadata": {},
   "outputs": [],
   "source": [
    "def solve_24(nums):\n",
    "    ops = ['+', '-', '*', '/']\n",
    "    solutions = []\n",
    "    structures = [\n",
    "        \"(({0} {4} {1}) {5} {2}) {6} {3}\",\n",
    "        \"({0} {4} ({1} {5} {2})) {6} {3}\",\n",
    "        \"{0} {4} (({1} {5} {2}) {6} {3})\",\n",
    "        \"{0} {4} ({1} {5} ({2} {6} {3}))\",\n",
    "        \"({0} {4} {1}) {5} ({2} {6} {3})\"\n",
    "    ]\n",
    "    \n",
    "    for perm in permutations(nums):\n",
    "        a, b, c, d = map(str, perm)\n",
    "        for op1, op2, op3 in product(ops, repeat=3):\n",
    "            for struct in structures:\n",
    "                expr = struct.format(a, b, c, d, op1, op2, op3)\n",
    "                try:\n",
    "                    if abs(eval(expr) - 24) < 1e-6:\n",
    "                        solutions.append(expr)\n",
    "                except ZeroDivisionError:\n",
    "                    continue\n",
    "    return list(set(solutions))  "
   ]
  },
  {
   "cell_type": "code",
   "execution_count": 3,
   "metadata": {},
   "outputs": [
    {
     "name": "stdout",
     "output_type": "stream",
     "text": [
      "['8 / (3 - (8 / 3))']\n"
     ]
    }
   ],
   "source": [
    "print(solve_24([3, 3, 8, 8]))  "
   ]
  }
 ],
 "metadata": {
  "kernelspec": {
   "display_name": "py310",
   "language": "python",
   "name": "python3"
  },
  "language_info": {
   "codemirror_mode": {
    "name": "ipython",
    "version": 3
   },
   "file_extension": ".py",
   "mimetype": "text/x-python",
   "name": "python",
   "nbconvert_exporter": "python",
   "pygments_lexer": "ipython3",
   "version": "3.10.15"
  }
 },
 "nbformat": 4,
 "nbformat_minor": 2
}
