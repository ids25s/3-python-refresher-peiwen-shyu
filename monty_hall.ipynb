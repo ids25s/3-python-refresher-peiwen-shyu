{
 "cells": [
  {
   "cell_type": "code",
   "execution_count": 1,
   "metadata": {},
   "outputs": [],
   "source": [
    "import random"
   ]
  },
  {
   "cell_type": "code",
   "execution_count": 2,
   "metadata": {},
   "outputs": [],
   "source": [
    "def simulator(ndoor, nempty, mdoor):\n",
    "    '''\n",
    "    Simulate Monty Hall problem once.\n",
    "\n",
    "    arguments:\n",
    "        ndoor: number of doors\n",
    "        nempty: number of empty doors\n",
    "        mdoor: number of doors opened by the host\n",
    "\n",
    "    returns:\n",
    "        result tuple: \n",
    "            (i,s) where i & s are 0 or 1, \n",
    "            i is 1 iff initial choice wins, \n",
    "            and s is 1 of iff choice after switch wins\n",
    "        \n",
    "    iff stands for \"if and only if\" \n",
    "    '''\n",
    "\n",
    "    # randomly select nempty door, and set it to 0\n",
    "    doors_index = [i for i in range(ndoor)]\n",
    "    doors = {i: 1 for i in doors_index}\n",
    "    empty_indices = random.sample(doors_index, nempty)\n",
    "    empty_indices.sort()\n",
    "    for i in empty_indices:\n",
    "        doors[i] = 0\n",
    "\n",
    "    print(\"number of doors:\", ndoor, \n",
    "          \"\\nnumber of empty doors:\", nempty, \n",
    "          \"\\nnumber of doors opened by the host:\", mdoor)\n",
    "    print(\"\\nempty doors:\", empty_indices)\n",
    "\n",
    "    # the contestant selects a door randomly\n",
    "    initial_choice = random.randint(0, ndoor - 1)\n",
    "    \n",
    "    # the host opens mdoor <= nempty-1 of the empty doors\n",
    "    # the host will not open the door selected by the contestant\n",
    "    doors_host_open = []\n",
    "    doors_host_selectable = [i for i in empty_indices if i != initial_choice]\n",
    "    # randomly select mdoor doors from doors_selectable\n",
    "    doors_host_open = random.sample(doors_host_selectable, mdoor)\n",
    "\n",
    "    print(\"doors that host opens:\", doors_host_open)\n",
    "\n",
    "    # record the initial choice wins or not\n",
    "    if doors[initial_choice] == 1:\n",
    "        initial = True\n",
    "    else:\n",
    "        initial = False\n",
    "\n",
    "    # delete the doors opened by the host\n",
    "    doors_selectable = [i for i in doors_index if \\\n",
    "                        i != initial_choice and i not in doors_host_open]\n",
    "    # random select one door number from doors_selectable\n",
    "    switched_choice = random.choice(doors_selectable)\n",
    "\n",
    "    if doors[switched_choice] == 1:\n",
    "        switch = True\n",
    "    else:\n",
    "        switch = False\n",
    "\n",
    "    print(\"\\ninitial choice:\", initial_choice)\n",
    "    print(\"choice after switch :\", switched_choice)\n",
    "    print(\"\\ninitial choice wins:\", initial, \n",
    "          \"\\nchoice after switch wins:\", switch)\n",
    "\n",
    "    return (initial, switch)"
   ]
  },
  {
   "cell_type": "code",
   "execution_count": 3,
   "metadata": {},
   "outputs": [
    {
     "name": "stdout",
     "output_type": "stream",
     "text": [
      "number of doors: 3 \n",
      "number of empty doors: 2 \n",
      "number of doors opened by the host: 1\n",
      "\n",
      "empty doors: [0, 2]\n",
      "doors that host opens: [0]\n",
      "\n",
      "initial choice: 2\n",
      "choice after switch : 1\n",
      "\n",
      "initial choice wins: False \n",
      "choice after switch wins: True\n"
     ]
    },
    {
     "data": {
      "text/plain": [
       "(False, True)"
      ]
     },
     "execution_count": 3,
     "metadata": {},
     "output_type": "execute_result"
    }
   ],
   "source": [
    "simulator(3, 2, 1)"
   ]
  },
  {
   "cell_type": "code",
   "execution_count": 4,
   "metadata": {},
   "outputs": [
    {
     "name": "stdout",
     "output_type": "stream",
     "text": [
      "number of doors: 10 \n",
      "number of empty doors: 9 \n",
      "number of doors opened by the host: 8\n",
      "\n",
      "empty doors: [0, 1, 2, 3, 4, 6, 7, 8, 9]\n",
      "doors that host opens: [4, 7, 3, 9, 8, 2, 1, 6]\n",
      "\n",
      "initial choice: 0\n",
      "choice after switch : 5\n",
      "\n",
      "initial choice wins: False \n",
      "choice after switch wins: True\n"
     ]
    },
    {
     "data": {
      "text/plain": [
       "(False, True)"
      ]
     },
     "execution_count": 4,
     "metadata": {},
     "output_type": "execute_result"
    }
   ],
   "source": [
    "simulator(10, 9, 8)"
   ]
  },
  {
   "cell_type": "code",
   "execution_count": 5,
   "metadata": {},
   "outputs": [],
   "source": [
    "def multi_times_simulator(ndoor, nempty, mdoor,ntrial=1000):\n",
    "    '''\n",
    "    Simulate Monty Hall problem ntrial times, and record the \n",
    "    frequency of initial choice wins and choice after switch wins\n",
    "\n",
    "    arguments:\n",
    "        ndoor: number of doors\n",
    "        nempty: number of empty doors\n",
    "        mdoor: number of doors opened by the host\n",
    "\n",
    "    returns:\n",
    "        result tuple: (i,s) \n",
    "            where i & s stand for the frequency of initial choice wins \n",
    "            and choice after switch wins, respectively\n",
    "        \n",
    "    iff stands for \"if and only if\" \n",
    "    '''\n",
    "\n",
    "    # record the times of initial choice wins and choice after switch wins\n",
    "    initial_win_times = 0\n",
    "    switch_win_times = 0\n",
    "\n",
    "    \n",
    "    # randomly select nempty door, and set it to 0\n",
    "    doors_index = [i for i in range(ndoor)]\n",
    "    doors = {i: 1 for i in doors_index}\n",
    "    empty_indices = random.sample(doors_index, nempty)\n",
    "    empty_indices.sort()\n",
    "    for i in empty_indices:\n",
    "        doors[i] = 0\n",
    "    print(\"number of doors:\", ndoor, \n",
    "          \"\\nnumber of empty doors:\", nempty, \n",
    "          \"\\nnumber of doors opened by the host:\", mdoor)\n",
    "    print(\"\\nempty doors:\", empty_indices)\n",
    "\n",
    "    # simulate ntrial times\n",
    "    for i in range(ntrial):\n",
    "        # the contestant selects a door randomly\n",
    "        initial_choice = random.randint(0, ndoor - 1)\n",
    "        # the host opens mdoor of the empty doors \n",
    "        # the host will not open the door selected by the contestant\n",
    "        doors_host_open = []\n",
    "        doors_host_selectable = [i for i in empty_indices if i != initial_choice]\n",
    "        # randomly select mdoor doors from doors_selectable\n",
    "        doors_host_open = random.sample(doors_host_selectable, mdoor)\n",
    "\n",
    "        # if initial choice wins, record it by adding 1 to initial_win_times\n",
    "        if doors[initial_choice] == 1:\n",
    "            initial_win_times += 1\n",
    "\n",
    "        # delete the doors host opened from doors\n",
    "        doors_selectable = [i for i in doors_index if \\\n",
    "                            i != initial_choice and i not in doors_host_open]\n",
    "        # random choose a door number in doors_selectable\n",
    "        switched_choice = random.choice(doors_selectable)\n",
    "        # if choice after switch wins, record it by adding 1 to switch_win_times\n",
    "        if doors[switched_choice] == 1:\n",
    "            switch_win_times += 1\n",
    "\n",
    "    initial = initial_win_times/ntrial\n",
    "    switch = switch_win_times/ntrial\n",
    "    \n",
    "    print(\"\\nthe frequency of initial choice wins:\", initial, \n",
    "          \"\\nthe frequency of choice after switch wins:\", switch)\n",
    "\n",
    "    return (initial, switch)"
   ]
  },
  {
   "cell_type": "code",
   "execution_count": 6,
   "metadata": {},
   "outputs": [
    {
     "name": "stdout",
     "output_type": "stream",
     "text": [
      "number of doors: 3 \n",
      "number of empty doors: 2 \n",
      "number of doors opened by the host: 1\n",
      "\n",
      "empty doors: [0, 2]\n",
      "\n",
      "the frequency of initial choice wins: 0.326 \n",
      "the frequency of choice after switch wins: 0.674\n"
     ]
    },
    {
     "data": {
      "text/plain": [
       "(0.326, 0.674)"
      ]
     },
     "execution_count": 6,
     "metadata": {},
     "output_type": "execute_result"
    }
   ],
   "source": [
    "multi_times_simulator(3, 2, 1, ntrial=1000)"
   ]
  },
  {
   "cell_type": "code",
   "execution_count": 7,
   "metadata": {},
   "outputs": [
    {
     "name": "stdout",
     "output_type": "stream",
     "text": [
      "number of doors: 10 \n",
      "number of empty doors: 9 \n",
      "number of doors opened by the host: 8\n",
      "\n",
      "empty doors: [0, 1, 2, 3, 5, 6, 7, 8, 9]\n",
      "\n",
      "the frequency of initial choice wins: 0.111 \n",
      "the frequency of choice after switch wins: 0.889\n"
     ]
    },
    {
     "data": {
      "text/plain": [
       "(0.111, 0.889)"
      ]
     },
     "execution_count": 7,
     "metadata": {},
     "output_type": "execute_result"
    }
   ],
   "source": [
    "multi_times_simulator(10, 9, 8, ntrial=1000)"
   ]
  }
 ],
 "metadata": {
  "kernelspec": {
   "display_name": "py310",
   "language": "python",
   "name": "python3"
  },
  "language_info": {
   "codemirror_mode": {
    "name": "ipython",
    "version": 3
   },
   "file_extension": ".py",
   "mimetype": "text/x-python",
   "name": "python",
   "nbconvert_exporter": "python",
   "pygments_lexer": "ipython3",
   "version": "3.10.15"
  }
 },
 "nbformat": 4,
 "nbformat_minor": 2
}
